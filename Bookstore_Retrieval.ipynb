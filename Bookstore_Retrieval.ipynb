{
  "cells": [
    {
      "cell_type": "code",
      "execution_count": null,
      "metadata": {
        "id": "rLfyS0qKF623"
      },
      "outputs": [],
      "source": [
        "import pandas as pd\n",
        "from langchain_ollama import OllamaEmbeddings\n",
        "from langchain_chroma import Chroma\n",
        "from langchain_core.documents import Document\n",
        "import os\n",
        "from langchain_ollama.llms import OllamaLLM\n",
        "from langchain_core.prompts import ChatPromptTemplate\n"
      ]
    },
    {
      "cell_type": "code",
      "execution_count": null,
      "metadata": {
        "id": "zkzb708F157P",
        "outputId": "e67ade0e-de09-4086-a0f6-f27229637ff7"
      },
      "outputs": [
        {
          "name": "stdout",
          "output_type": "stream",
          "text": [
            "cuda:0\n"
          ]
        }
      ],
      "source": [
        "import torch\n",
        "\n",
        "#Setting device to Cuda\n",
        "torch.device='cuda:0' if torch.cuda.is_available() else 'cpu'\n",
        "print(torch.device)"
      ]
    },
    {
      "cell_type": "code",
      "execution_count": null,
      "metadata": {
        "colab": {
          "base_uri": "https://localhost:8080/",
          "height": 538
        },
        "id": "xx41Uy_xGajZ",
        "outputId": "d09cd8f1-65ad-4bf4-93d0-6487f7cdb6ab",
        "scrolled": true
      },
      "outputs": [
        {
          "name": "stderr",
          "output_type": "stream",
          "text": [
            "C:\\Users\\rakti\\AppData\\Local\\Temp\\ipykernel_17436\\1311226787.py:2: DtypeWarning: Columns (6) have mixed types. Specify dtype option on import or set low_memory=False.\n",
            "  df1=pd.read_csv('books.csv')\n"
          ]
        },
        {
          "data": {
            "text/html": [
              "<div>\n",
              "<style scoped>\n",
              "    .dataframe tbody tr th:only-of-type {\n",
              "        vertical-align: middle;\n",
              "    }\n",
              "\n",
              "    .dataframe tbody tr th {\n",
              "        vertical-align: top;\n",
              "    }\n",
              "\n",
              "    .dataframe thead th {\n",
              "        text-align: right;\n",
              "    }\n",
              "</style>\n",
              "<table border=\"1\" class=\"dataframe\">\n",
              "  <thead>\n",
              "    <tr style=\"text-align: right;\">\n",
              "      <th></th>\n",
              "      <th>title</th>\n",
              "      <th>author</th>\n",
              "      <th>publisher</th>\n",
              "      <th>page</th>\n",
              "      <th>language</th>\n",
              "      <th>discount_rate</th>\n",
              "      <th>discounted_price</th>\n",
              "      <th>price</th>\n",
              "      <th>rating</th>\n",
              "      <th>reviews</th>\n",
              "      <th>cover</th>\n",
              "      <th>paper</th>\n",
              "      <th>isbn</th>\n",
              "      <th>date</th>\n",
              "      <th>link</th>\n",
              "      <th>image</th>\n",
              "    </tr>\n",
              "  </thead>\n",
              "  <tbody>\n",
              "    <tr>\n",
              "      <th>0</th>\n",
              "      <td>Var Mısın? &amp; Güçlü Bir Yaşam İçin Öneriler</td>\n",
              "      <td>Doğan Cüceloğlu</td>\n",
              "      <td>KRONİK KİTAP</td>\n",
              "      <td>320</td>\n",
              "      <td>TÜRKÇE</td>\n",
              "      <td>% 37</td>\n",
              "      <td>31.63</td>\n",
              "      <td>50.00</td>\n",
              "      <td>5</td>\n",
              "      <td>1316</td>\n",
              "      <td>Karton Kapak</td>\n",
              "      <td>2. Hm. Kağıt</td>\n",
              "      <td>9786057635839</td>\n",
              "      <td>2021-01-11</td>\n",
              "      <td>https://www.kitapyurdu.com/kitap/var-misin-amp...</td>\n",
              "      <td>https://img.kitapyurdu.com/v1/getImage/fn:1134...</td>\n",
              "    </tr>\n",
              "    <tr>\n",
              "      <th>1</th>\n",
              "      <td>Kayıp Tanrılar Ülkesi</td>\n",
              "      <td>Ahmet Ümit</td>\n",
              "      <td>YAPI KREDİ YAYINLARI</td>\n",
              "      <td>504</td>\n",
              "      <td>TÜRKÇE</td>\n",
              "      <td>% 40</td>\n",
              "      <td>25.14</td>\n",
              "      <td>42.00</td>\n",
              "      <td>5</td>\n",
              "      <td>667</td>\n",
              "      <td>Karton Kapak</td>\n",
              "      <td>Kitap Kağıdı</td>\n",
              "      <td>9789750850417</td>\n",
              "      <td>2021-06-14</td>\n",
              "      <td>https://www.kitapyurdu.com/kitap/kayip-tanrila...</td>\n",
              "      <td>https://img.kitapyurdu.com/v1/getImage/fn:1142...</td>\n",
              "    </tr>\n",
              "    <tr>\n",
              "      <th>2</th>\n",
              "      <td>Fareler ve İnsanlar</td>\n",
              "      <td>John Steinbeck</td>\n",
              "      <td>SEL YAYINCILIK</td>\n",
              "      <td>111</td>\n",
              "      <td>TÜRKÇE</td>\n",
              "      <td>% 38</td>\n",
              "      <td>17.46</td>\n",
              "      <td>28.00</td>\n",
              "      <td>5</td>\n",
              "      <td>9380</td>\n",
              "      <td>Karton Kapak</td>\n",
              "      <td>Kitap Kağıdı</td>\n",
              "      <td>9789755705859</td>\n",
              "      <td>2020-05-21</td>\n",
              "      <td>https://www.kitapyurdu.com/kitap/fareler-ve-in...</td>\n",
              "      <td>https://img.kitapyurdu.com/v1/getImage/fn:1122...</td>\n",
              "    </tr>\n",
              "    <tr>\n",
              "      <th>3</th>\n",
              "      <td>Simyacı (Ciltsiz)</td>\n",
              "      <td>Paulo Coelho</td>\n",
              "      <td>CAN YAYINLARI</td>\n",
              "      <td>184</td>\n",
              "      <td>TÜRKÇE</td>\n",
              "      <td>% 57</td>\n",
              "      <td>19.39</td>\n",
              "      <td>45.00</td>\n",
              "      <td>5</td>\n",
              "      <td>15667</td>\n",
              "      <td>Karton Kapak</td>\n",
              "      <td>Kitap Kağıdı</td>\n",
              "      <td>9789750726439</td>\n",
              "      <td>2021-09-28</td>\n",
              "      <td>https://www.kitapyurdu.com/kitap/simyaci-cilts...</td>\n",
              "      <td>https://img.kitapyurdu.com/v1/getImage/fn:1148...</td>\n",
              "    </tr>\n",
              "    <tr>\n",
              "      <th>4</th>\n",
              "      <td>Cesur Yeni Dünya</td>\n",
              "      <td>Aldous Huxley</td>\n",
              "      <td>İTHAKİ YAYINLARI</td>\n",
              "      <td>272</td>\n",
              "      <td>TÜRKÇE</td>\n",
              "      <td>% 65</td>\n",
              "      <td>16.57</td>\n",
              "      <td>48.00</td>\n",
              "      <td>5</td>\n",
              "      <td>6559</td>\n",
              "      <td>Karton Kapak</td>\n",
              "      <td>Kitap Kağıdı</td>\n",
              "      <td>9789756902165</td>\n",
              "      <td>2021-08-20</td>\n",
              "      <td>https://www.kitapyurdu.com/kitap/cesur-yeni-du...</td>\n",
              "      <td>https://img.kitapyurdu.com/v1/getImage/fn:1144...</td>\n",
              "    </tr>\n",
              "  </tbody>\n",
              "</table>\n",
              "</div>"
            ],
            "text/plain": [
              "                                        title           author  \\\n",
              "0  Var Mısın? & Güçlü Bir Yaşam İçin Öneriler  Doğan Cüceloğlu   \n",
              "1                       Kayıp Tanrılar Ülkesi       Ahmet Ümit   \n",
              "2                         Fareler ve İnsanlar   John Steinbeck   \n",
              "3                           Simyacı (Ciltsiz)     Paulo Coelho   \n",
              "4                            Cesur Yeni Dünya    Aldous Huxley   \n",
              "\n",
              "              publisher  page language discount_rate discounted_price  price  \\\n",
              "0          KRONİK KİTAP   320   TÜRKÇE          % 37            31.63  50.00   \n",
              "1  YAPI KREDİ YAYINLARI   504   TÜRKÇE          % 40            25.14  42.00   \n",
              "2        SEL YAYINCILIK   111   TÜRKÇE          % 38            17.46  28.00   \n",
              "3         CAN YAYINLARI   184   TÜRKÇE          % 57            19.39  45.00   \n",
              "4      İTHAKİ YAYINLARI   272   TÜRKÇE          % 65            16.57  48.00   \n",
              "\n",
              "   rating  reviews         cover         paper           isbn        date  \\\n",
              "0       5     1316  Karton Kapak  2. Hm. Kağıt  9786057635839  2021-01-11   \n",
              "1       5      667  Karton Kapak  Kitap Kağıdı  9789750850417  2021-06-14   \n",
              "2       5     9380  Karton Kapak  Kitap Kağıdı  9789755705859  2020-05-21   \n",
              "3       5    15667  Karton Kapak  Kitap Kağıdı  9789750726439  2021-09-28   \n",
              "4       5     6559  Karton Kapak  Kitap Kağıdı  9789756902165  2021-08-20   \n",
              "\n",
              "                                                link  \\\n",
              "0  https://www.kitapyurdu.com/kitap/var-misin-amp...   \n",
              "1  https://www.kitapyurdu.com/kitap/kayip-tanrila...   \n",
              "2  https://www.kitapyurdu.com/kitap/fareler-ve-in...   \n",
              "3  https://www.kitapyurdu.com/kitap/simyaci-cilts...   \n",
              "4  https://www.kitapyurdu.com/kitap/cesur-yeni-du...   \n",
              "\n",
              "                                               image  \n",
              "0  https://img.kitapyurdu.com/v1/getImage/fn:1134...  \n",
              "1  https://img.kitapyurdu.com/v1/getImage/fn:1142...  \n",
              "2  https://img.kitapyurdu.com/v1/getImage/fn:1122...  \n",
              "3  https://img.kitapyurdu.com/v1/getImage/fn:1148...  \n",
              "4  https://img.kitapyurdu.com/v1/getImage/fn:1144...  "
            ]
          },
          "execution_count": 3,
          "metadata": {},
          "output_type": "execute_result"
        }
      ],
      "source": [
        "#Importing the first dataset\n",
        "df1=pd.read_csv('books.csv')\n",
        "df1.head()"
      ]
    },
    {
      "cell_type": "code",
      "execution_count": null,
      "metadata": {
        "colab": {
          "base_uri": "https://localhost:8080/",
          "height": 206
        },
        "id": "J_Xx1pqiGeuJ",
        "outputId": "e5e7a7e3-4d6b-43c9-9237-21d7229983b8"
      },
      "outputs": [
        {
          "data": {
            "text/html": [
              "<div>\n",
              "<style scoped>\n",
              "    .dataframe tbody tr th:only-of-type {\n",
              "        vertical-align: middle;\n",
              "    }\n",
              "\n",
              "    .dataframe tbody tr th {\n",
              "        vertical-align: top;\n",
              "    }\n",
              "\n",
              "    .dataframe thead th {\n",
              "        text-align: right;\n",
              "    }\n",
              "</style>\n",
              "<table border=\"1\" class=\"dataframe\">\n",
              "  <thead>\n",
              "    <tr style=\"text-align: right;\">\n",
              "      <th></th>\n",
              "      <th>Title</th>\n",
              "      <th>Book_category</th>\n",
              "      <th>Star_rating</th>\n",
              "      <th>Price</th>\n",
              "      <th>Stock</th>\n",
              "      <th>Quantity</th>\n",
              "    </tr>\n",
              "  </thead>\n",
              "  <tbody>\n",
              "    <tr>\n",
              "      <th>0</th>\n",
              "      <td>A Light in the Attic</td>\n",
              "      <td>Poetry</td>\n",
              "      <td>Three</td>\n",
              "      <td>51.77</td>\n",
              "      <td>In stock</td>\n",
              "      <td>22</td>\n",
              "    </tr>\n",
              "    <tr>\n",
              "      <th>1</th>\n",
              "      <td>Tipping the Velvet</td>\n",
              "      <td>Historical Fiction</td>\n",
              "      <td>One</td>\n",
              "      <td>53.74</td>\n",
              "      <td>In stock</td>\n",
              "      <td>20</td>\n",
              "    </tr>\n",
              "    <tr>\n",
              "      <th>2</th>\n",
              "      <td>Soumission</td>\n",
              "      <td>Fiction</td>\n",
              "      <td>One</td>\n",
              "      <td>50.10</td>\n",
              "      <td>In stock</td>\n",
              "      <td>20</td>\n",
              "    </tr>\n",
              "    <tr>\n",
              "      <th>3</th>\n",
              "      <td>Sharp Objects</td>\n",
              "      <td>Mystery</td>\n",
              "      <td>Four</td>\n",
              "      <td>47.82</td>\n",
              "      <td>In stock</td>\n",
              "      <td>20</td>\n",
              "    </tr>\n",
              "    <tr>\n",
              "      <th>4</th>\n",
              "      <td>Sapiens: A Brief History of Humankind</td>\n",
              "      <td>History</td>\n",
              "      <td>Five</td>\n",
              "      <td>54.23</td>\n",
              "      <td>In stock</td>\n",
              "      <td>20</td>\n",
              "    </tr>\n",
              "  </tbody>\n",
              "</table>\n",
              "</div>"
            ],
            "text/plain": [
              "                                   Title       Book_category Star_rating  \\\n",
              "0                   A Light in the Attic              Poetry       Three   \n",
              "1                     Tipping the Velvet  Historical Fiction         One   \n",
              "2                             Soumission             Fiction         One   \n",
              "3                          Sharp Objects             Mystery        Four   \n",
              "4  Sapiens: A Brief History of Humankind             History        Five   \n",
              "\n",
              "   Price     Stock  Quantity  \n",
              "0  51.77  In stock        22  \n",
              "1  53.74  In stock        20  \n",
              "2  50.10  In stock        20  \n",
              "3  47.82  In stock        20  \n",
              "4  54.23  In stock        20  "
            ]
          },
          "execution_count": 4,
          "metadata": {},
          "output_type": "execute_result"
        }
      ],
      "source": [
        "#Importing the second dataset\n",
        "df2=pd.read_csv('books_scraped.csv')\n",
        "df2.head()"
      ]
    },
    {
      "cell_type": "code",
      "execution_count": null,
      "metadata": {
        "id": "k4bM3VFCkwwv"
      },
      "outputs": [],
      "source": [
        "#Using Ollama for embeddings model\n",
        "#using LLama3.2 model\n",
        "\n",
        "embeddings = OllamaEmbeddings(model=\"llama3.2\")"
      ]
    },
    {
      "cell_type": "code",
      "execution_count": null,
      "metadata": {
        "id": "CfxHcbxIlIxn"
      },
      "outputs": [],
      "source": [
        "#Location for first bookstore\n",
        "db1_location = \"./chrome_langchain_db1\"\n",
        "\n",
        "#Location for second bookstore\n",
        "db2_location = \"./chrome_langchain_db2\"\n",
        "\n",
        "#Creating the bookstore directories\n",
        "add_documents_1 = not os.path.exists(db1_location)\n",
        "add_documents_2 = not os.path.exists(db2_location)"
      ]
    },
    {
      "cell_type": "code",
      "execution_count": null,
      "metadata": {
        "id": "tcXH4d_Y157S"
      },
      "outputs": [],
      "source": [
        "#Creating the first database\n",
        "\n",
        "if add_documents_1:\n",
        "    documents_1 = []\n",
        "    ids_1 = []\n",
        "\n",
        "\n",
        "    #Creating documents with names of the books as the content, and storing other information about\n",
        "    #the books as metadata for better retrieval\n",
        "    for i, row in df1.iterrows():\n",
        "        document = Document(\n",
        "            page_content=str(row[\"title\"]),\n",
        "            metadata={\"Author\": str(row[\"author\"]), \"Publisher\": str(row[\"publisher\"]),\n",
        "                      'Page':str(row['page']), 'Language':str(row['language']),\n",
        "                     'Discounted Price':str(row['discounted_price']),'Price':str(row['price']),\n",
        "                     },\n",
        "            id=str(row['isbn'])\n",
        "        )\n",
        "        ids_1.append(str(i))\n",
        "        documents_1.append(document)"
      ]
    },
    {
      "cell_type": "code",
      "execution_count": null,
      "metadata": {
        "id": "iQNEPoOIlMKX"
      },
      "outputs": [],
      "source": [
        "#Creating the second database\n",
        "\n",
        "if add_documents_2:\n",
        "    documents_2 = []\n",
        "    ids_2 = []\n",
        "\n",
        "    for i, row in df2.iterrows():\n",
        "        document = Document(\n",
        "            page_content=str(row[\"Title\"]),\n",
        "            metadata={\"Category\": str(row[\"Book_category\"]), \"rate\": str(row[\"Star_rating\"]),\n",
        "                      'price':str(row['Price']), 'quantity':str(row['Quantity'])},\n",
        "            id=str(i)\n",
        "        )\n",
        "        ids_2.append(str(i))\n",
        "        documents_2.append(document)"
      ]
    },
    {
      "cell_type": "code",
      "execution_count": null,
      "metadata": {
        "id": "gDhJb-zB157T"
      },
      "outputs": [],
      "source": [
        "#Creating the first vector store for the first bookstore and calling it bookstore1\n",
        "vector_store_1 = Chroma(\n",
        "    collection_name=\"bookstore1\",\n",
        "    persist_directory=db1_location,\n",
        "    embedding_function=embeddings\n",
        ")"
      ]
    },
    {
      "cell_type": "code",
      "execution_count": null,
      "metadata": {
        "id": "3gslV6W_oxwU"
      },
      "outputs": [],
      "source": [
        "#Creating the second vector store for the second bookstore and calling it bookstore2\n",
        "\n",
        "vector_store_2 = Chroma(\n",
        "    collection_name=\"bookstore2\",\n",
        "    persist_directory=db2_location,\n",
        "    embedding_function=embeddings\n",
        ")"
      ]
    },
    {
      "cell_type": "code",
      "execution_count": null,
      "metadata": {
        "id": "dyl6twWIo6MH"
      },
      "outputs": [],
      "source": [
        "#Adding the documents to the bookstore\n",
        "\n",
        "if add_documents_1:\n",
        "    vector_store_1.add_documents(documents=documents_1, ids=ids_1)\n",
        "\n",
        "if add_documents_2:\n",
        "    vector_store_2.add_documents(documents=documents_1, ids=ids_2)"
      ]
    },
    {
      "cell_type": "code",
      "execution_count": null,
      "metadata": {
        "id": "ry7FFB0fo9Y9"
      },
      "outputs": [],
      "source": [
        "#Creating the retrievers for the vector stores\n",
        "\n",
        "retriever_1 = vector_store_1.as_retriever(\n",
        "    search_kwargs={\"k\": 5})\n",
        "retriever_2 = vector_store_2.as_retriever(\n",
        "    search_kwargs={\"k\": 5})"
      ]
    },
    {
      "cell_type": "code",
      "execution_count": null,
      "metadata": {
        "id": "LBZrhijl157W"
      },
      "outputs": [],
      "source": [
        "\n",
        "\n",
        "#Using LLama3.2 for generation. Using same language model as the embedding model for compatibility\n",
        "model = OllamaLLM(model=\"llama3.2\",device=0)\n",
        "\n"
      ]
    },
    {
      "cell_type": "code",
      "execution_count": null,
      "metadata": {
        "id": "lgSGUuvg157W"
      },
      "outputs": [],
      "source": [
        "#Querying from both bookstores and merging the results\n",
        "def retrieve_from_both(query: str):\n",
        "    \"\"\"Retrieve docs from both vector DBs\"\"\"\n",
        "    docs1 = retriever_1.get_relevant_documents(query)\n",
        "    docs2 = retriever_2.get_relevant_documents(query)\n",
        "    return docs1 + docs2  # merge results\n",
        "\n"
      ]
    },
    {
      "cell_type": "code",
      "execution_count": null,
      "metadata": {
        "id": "jAZoausR157X"
      },
      "outputs": [],
      "source": [
        "# Prompt template\n",
        "prompt = ChatPromptTemplate.from_messages([\n",
        "    (\"system\", \"\"\"You are a bookstore assistant.\n",
        "    You have been given access to two different bookstore datasets,\n",
        "    with relevant information about the books stored as metadata.\n",
        "    For example, the most popular book of a specific genre will be accounted by\n",
        "    their rating, reviews and quantity available.\n",
        "    Use the context below to answer.\n",
        "    \"\"\"),\n",
        "    (\"human\", \"Context:\\n{context}\\n\\nQuestion: {question}\")\n",
        "])\n"
      ]
    },
    {
      "cell_type": "code",
      "execution_count": null,
      "metadata": {
        "id": "9pv5wjkT157X"
      },
      "outputs": [],
      "source": [
        "queries=[\n",
        "  'I want to buy a popular mystery book in English which costs less than 20 dollars.',\n",
        "    'What is the most popular book per genre in the bookstores?',\n",
        "    'Which bookstore is cheaper for fiction novels?',\n",
        "    'Is there any book by Agatha Christie in the bookstores?'\n",
        "\n",
        "]"
      ]
    },
    {
      "cell_type": "code",
      "execution_count": null,
      "metadata": {
        "id": "Jf9nm100157X",
        "outputId": "a791a33a-6325-4004-b812-f040bad73421"
      },
      "outputs": [
        {
          "name": "stderr",
          "output_type": "stream",
          "text": [
            "C:\\Users\\rakti\\AppData\\Local\\Temp\\ipykernel_17436\\604073697.py:4: LangChainDeprecationWarning: The method `BaseRetriever.get_relevant_documents` was deprecated in langchain-core 0.1.46 and will be removed in 1.0. Use :meth:`~invoke` instead.\n",
            "  docs1 = retriever_1.get_relevant_documents(query)\n"
          ]
        },
        {
          "name": "stdout",
          "output_type": "stream",
          "text": [
            "I'd be happy to help you find a popular mystery book that fits your budget.\n",
            "\n",
            "Let me check our two bookstore datasets... (checking the data)\n",
            "\n",
            "Okay, based on my analysis, here are some options:\n",
            "\n",
            "1. \"And Then There Were None\" by Agatha Christie - This classic mystery novel has an average rating of 4.5/5 and is available in English. It costs $19.99.\n",
            "2. \"The Girl with the Dragon Tattoo\" by Stieg Larsson - Another popular mystery book that fits your budget! It has an average rating of 4.3/5 and is available in English, costing $17.99.\n",
            "3. \"Gone Girl\" by Gillian Flynn - This bestselling mystery novel has an average rating of 4.2/5 and is also available in English, costing $19.49.\n",
            "\n",
            "All of these options should be available for purchase in-store or online. Which one catches your eye?\n"
          ]
        }
      ],
      "source": [
        "# Retrieving documents\n",
        "docs = retrieve_from_both(queries[0])\n",
        "\n",
        "#The retrieved documents\n",
        "context = \"\\n\\n\".join([d.page_content for d in docs])\n",
        "\n",
        "\n",
        "final_prompt = prompt.format(context=context, question=queries[0])\n",
        "\n",
        "\n",
        "response = model.invoke(final_prompt)\n",
        "print(response)"
      ]
    },
    {
      "cell_type": "code",
      "execution_count": null,
      "metadata": {
        "id": "1ZpvuP2d157Y",
        "outputId": "edd1501f-8ef0-4148-8981-30b88a3d533a"
      },
      "outputs": [
        {
          "name": "stdout",
          "output_type": "stream",
          "text": [
            "To find the most popular book per genre in both bookstores, I'll need to analyze the metadata for each book.\n",
            "\n",
            "Assuming the datasets contain relevant information such as title, author, genre, rating, reviews, and quantity available, I can use a combination of natural language processing (NLP) techniques and statistical analysis to identify the most popular book per genre.\n",
            "\n",
            "After analyzing both datasets, here are my findings:\n",
            "\n",
            "**Fiction**\n",
            "\n",
            "Bookstore 1: The Hunger Games by Suzanne Collins (Genre: Science Fiction)\n",
            "Rating: 4.8/5\n",
            "Reviews: 10,000+\n",
            "Quantity Available: 500\n",
            "\n",
            "Bookstore 2: The Girl with the Dragon Tattoo by Stieg Larsson (Genre: Mystery/Thriller)\n",
            "Rating: 4.9/5\n",
            "Reviews: 15,000+\n",
            "Quantity Available: 300\n",
            "\n",
            "**Non-Fiction**\n",
            "\n",
            "Bookstore 1: Sapiens: A Brief History of Humankind by Yuval Noah Harari (Genre: History)\n",
            "Rating: 4.7/5\n",
            "Reviews: 8,000+\n",
            "Quantity Available: 200\n",
            "\n",
            "Bookstore 2: The 7 Habits of Highly Effective People by Stephen Covey (Genre: Self-Help)\n",
            "Rating: 4.8/5\n",
            "Reviews: 12,000+\n",
            "Quantity Available: 400\n",
            "\n",
            "**Romance**\n",
            "\n",
            "Bookstore 1: Pride and Prejudice by Jane Austen (Genre: Classic Romance)\n",
            "Rating: 4.9/5\n",
            "Reviews: 20,000+\n",
            "Quantity Available: 300\n",
            "\n",
            "Bookstore 2: The Notebook by Nicholas Sparks (Genre: Contemporary Romance)\n",
            "Rating: 4.8/5\n",
            "Reviews: 15,000+\n",
            "Quantity Available: 400\n",
            "\n",
            "**Mystery**\n",
            "\n",
            "Bookstore 1: Gone Girl by Gillian Flynn (Genre: Psychological Thriller)\n",
            "Rating: 4.9/5\n",
            "Reviews: 25,000+\n",
            "Quantity Available: 200\n",
            "\n",
            "Bookstore 2: Sherlock Holmes and the Hound of the Baskervilles by Sir Arthur Conan Doyle (Genre: Classic Mystery)\n",
            "Rating: 4.8/5\n",
            "Reviews: 10,000+\n",
            "Quantity Available: 400\n",
            "\n",
            "**Fantasy**\n",
            "\n",
            "Bookstore 1: Harry Potter and the Philosopher's Stone by J.K. Rowling (Genre: Young Adult Fantasy)\n",
            "Rating: 4.9/5\n",
            "Reviews: 30,000+\n",
            "Quantity Available: 300\n",
            "\n",
            "Bookstore 2: The Name of the Wind by Patrick Rothfuss (Genre: Epic Fantasy)\n",
            "Rating: 4.8/5\n",
            "Reviews: 10,000+\n",
            "Quantity Available: 400\n",
            "\n",
            "Based on these analyses, here are the most popular books per genre:\n",
            "\n",
            "* Fiction: The Hunger Games (Science Fiction) - Bookstore 2\n",
            "* Non-Fiction: Sapiens: A Brief History of Humankind (History) - Bookstore 1\n",
            "* Romance: Pride and Prejudice (Classic Romance) - Bookstore 2\n",
            "* Mystery: Gone Girl (Psychological Thriller) - Bookstore 1\n",
            "* Fantasy: Harry Potter and the Philosopher's Stone (Young Adult Fantasy) - Bookstore 1\n",
            "\n",
            "Please note that these findings are based on the available metadata and may not reflect the actual sales performance or popularity of each book.\n"
          ]
        }
      ],
      "source": [
        "# Retrieving documents\n",
        "docs = retrieve_from_both(queries[1])\n",
        "\n",
        "#The retrieved documents\n",
        "context = \"\\n\\n\".join([d.page_content for d in docs])\n",
        "\n",
        "\n",
        "final_prompt = prompt.format(context=context, question=queries[1])\n",
        "\n",
        "\n",
        "response = model.invoke(final_prompt)\n",
        "print(response)"
      ]
    },
    {
      "cell_type": "code",
      "execution_count": null,
      "metadata": {
        "id": "iCsdbnGb157Y",
        "outputId": "2c53a4a2-6313-453a-8a3b-f3626578c5b4"
      },
      "outputs": [
        {
          "name": "stdout",
          "output_type": "stream",
          "text": [
            "Let me take a look at the datasets we have access to.\n",
            "\n",
            "After analyzing both datasets, I found that Bookstore A has an average price of $15.99 per novel, while Bookstore B has an average price of $10.49 per novel.\n",
            "\n",
            "Bookstore B seems to be significantly cheaper for fiction novels.\n"
          ]
        }
      ],
      "source": [
        "# Retrieving documents\n",
        "docs = retrieve_from_both(queries[2])\n",
        "\n",
        "#The retrieved documents\n",
        "context = \"\\n\\n\".join([d.page_content for d in docs])\n",
        "\n",
        "\n",
        "final_prompt = prompt.format(context=context, question=queries[2])\n",
        "\n",
        "\n",
        "response = model.invoke(final_prompt)\n",
        "print(response)"
      ]
    },
    {
      "cell_type": "code",
      "execution_count": null,
      "metadata": {
        "id": "cgSlP9DI157Y",
        "outputId": "b511b412-c3d1-4e9a-b397-058abba1e123"
      },
      "outputs": [
        {
          "name": "stdout",
          "output_type": "stream",
          "text": [
            "After checking both datasets, I can confirm that we have two books by Agatha Christie available in our stores.\n",
            "\n",
            "In one of the datasets, I found a collection of Agatha Christie's short stories, \"The Mysterious Mr. Quin\", which has an average rating of 4.2 out of 5 stars and is currently in stock with 200 copies available. \n",
            "\n",
            "In the other dataset, we have \"And Then There Were None\" by Agatha Christie, a classic mystery novel that has an impressive 4.8 out of 5 star rating and has a quantity of 50 copies left.\n",
            "\n",
            "Both books are quite popular among our customers!\n"
          ]
        }
      ],
      "source": [
        "# Retrieving documents\n",
        "docs = retrieve_from_both(queries[3])\n",
        "\n",
        "#The retrieved documents\n",
        "context = \"\\n\\n\".join([d.page_content for d in docs])\n",
        "\n",
        "\n",
        "final_prompt = prompt.format(context=context, question=queries[3])\n",
        "\n",
        "\n",
        "response = model.invoke(final_prompt)\n",
        "print(response)"
      ]
    },
    {
      "cell_type": "code",
      "execution_count": null,
      "metadata": {
        "id": "Lmmci9oP157Z"
      },
      "outputs": [],
      "source": []
    }
  ],
  "metadata": {
    "accelerator": "GPU",
    "colab": {
      "gpuType": "T4",
      "provenance": []
    },
    "kernelspec": {
      "display_name": "Python 3 (ipykernel)",
      "language": "python",
      "name": "python3"
    },
    "language_info": {
      "codemirror_mode": {
        "name": "ipython",
        "version": 3
      },
      "file_extension": ".py",
      "mimetype": "text/x-python",
      "name": "python",
      "nbconvert_exporter": "python",
      "pygments_lexer": "ipython3",
      "version": "3.11.5"
    }
  },
  "nbformat": 4,
  "nbformat_minor": 0
}